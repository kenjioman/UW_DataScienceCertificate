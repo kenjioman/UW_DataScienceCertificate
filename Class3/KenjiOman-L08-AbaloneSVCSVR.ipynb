{
 "cells": [
  {
   "cell_type": "markdown",
   "metadata": {},
   "source": [
    "# Lesson 8 Assignment - Abalone Age Determination\n",
    "\n",
    "## Author - Kenji Oman"
   ]
  },
  {
   "cell_type": "markdown",
   "metadata": {},
   "source": [
    "### Background\n",
    "Age of abalone is determined by cutting the shell through the cone, staining it, and counting the number of rings through a microscope. Other measurements, which are easier to obtain, could be used to predict the age. According to the data provider, original data examples with missing values were removed (the majority having the predicted value missing), and the ranges of the continuous values have been scaled (by dividing by 200) for use with machine learning algorithms such as SVMs and ANNs.\n",
    "\n",
    "The target field is “Rings”. Since the output is continuous the solution can be handled by a Support Vector Regression or it can be changed to a binary Support Vector Classification by assigning examples that are younger than 11 years old to class: ‘0’ and those that are older (class: ‘1’).\n",
    "\n",
    "Predict the age using the following attributes:\n",
    "* Sex / nominal / -- / M, F, and I (infant)\n",
    "* Length / continuous / mm / Longest shell measurement\n",
    "* Diameter / continuous / mm / perpendicular to length\n",
    "* Height / continuous / mm / with meat in shell\n",
    "* Whole weight / continuous / grams / whole abalone\n",
    "* Shucked weight / continuous / grams / weight of meat\n",
    "* Viscera weight / continuous / grams / gut weight (after bleeding)\n",
    "* Shell weight / continuous / grams / after being dried\n",
    "\n",
    "See [UCI's Abalone Data set](https://archive.ics.uci.edu/ml/datasets/abalone) for more information."
   ]
  },
  {
   "cell_type": "markdown",
   "metadata": {},
   "source": [
    "## Tasks\n",
    "Use the provided abalone.csv file, build an experiment using support vector machine classifier and regression. Complete the following tasks and answer the questions:\n",
    "\n",
    "1. Convert the continuous output value from continuous to binary (0,1) and build an SVC\n",
    "2. Using your best guess for hyperparameters and kernel, what is the percentage of correctly classified results?\n",
    "3. Test different kernels and hyperparameters or consider using `sklearn.model_selection.SearchGridCV`. Which kernel performed best with what settings?\n",
    "4. Show recall, precision and f-measure for the best model\n",
    "5. Using the original data, with rings as a continuous variable, create an SVR model\n",
    "6. Report on the predicted variance and the mean squared error"
   ]
  },
  {
   "cell_type": "code",
   "execution_count": 1,
   "metadata": {},
   "outputs": [],
   "source": [
    "# Data set contains 4177 rows and 9 columns.\n",
    "#URL = \"https://library.startlearninglabs.uw.edu/DATASCI420/Datasets/abalone.csv\"\n",
    "# Since the internet connection can be spotty at times, use a local cache of the file\n",
    "URL = \"abalone.csv\""
   ]
  },
  {
   "cell_type": "code",
   "execution_count": 2,
   "metadata": {},
   "outputs": [],
   "source": [
    "# Import libraries\n",
    "import numpy as np\n",
    "import pandas as pd\n",
    "from sklearn.model_selection import train_test_split\n",
    "from sklearn.svm import SVC, SVR\n",
    "from sklearn.metrics import accuracy_score, recall_score, precision_score, f1_score, mean_squared_error, explained_variance_score\n",
    "from sklearn.model_selection import GridSearchCV"
   ]
  },
  {
   "cell_type": "code",
   "execution_count": 3,
   "metadata": {},
   "outputs": [
    {
     "data": {
      "text/html": [
       "<div>\n",
       "<style scoped>\n",
       "    .dataframe tbody tr th:only-of-type {\n",
       "        vertical-align: middle;\n",
       "    }\n",
       "\n",
       "    .dataframe tbody tr th {\n",
       "        vertical-align: top;\n",
       "    }\n",
       "\n",
       "    .dataframe thead th {\n",
       "        text-align: right;\n",
       "    }\n",
       "</style>\n",
       "<table border=\"1\" class=\"dataframe\">\n",
       "  <thead>\n",
       "    <tr style=\"text-align: right;\">\n",
       "      <th></th>\n",
       "      <th>Length</th>\n",
       "      <th>Diameter</th>\n",
       "      <th>Height</th>\n",
       "      <th>Whole Weight</th>\n",
       "      <th>Shucked Weight</th>\n",
       "      <th>Viscera Weight</th>\n",
       "      <th>Shell Weight</th>\n",
       "      <th>Rings</th>\n",
       "      <th>BinaryRings</th>\n",
       "      <th>IsMale</th>\n",
       "    </tr>\n",
       "  </thead>\n",
       "  <tbody>\n",
       "    <tr>\n",
       "      <th>0</th>\n",
       "      <td>0.455</td>\n",
       "      <td>0.365</td>\n",
       "      <td>0.095</td>\n",
       "      <td>0.5140</td>\n",
       "      <td>0.2245</td>\n",
       "      <td>0.1010</td>\n",
       "      <td>0.150</td>\n",
       "      <td>15</td>\n",
       "      <td>1</td>\n",
       "      <td>1</td>\n",
       "    </tr>\n",
       "    <tr>\n",
       "      <th>1</th>\n",
       "      <td>0.350</td>\n",
       "      <td>0.265</td>\n",
       "      <td>0.090</td>\n",
       "      <td>0.2255</td>\n",
       "      <td>0.0995</td>\n",
       "      <td>0.0485</td>\n",
       "      <td>0.070</td>\n",
       "      <td>7</td>\n",
       "      <td>0</td>\n",
       "      <td>1</td>\n",
       "    </tr>\n",
       "    <tr>\n",
       "      <th>2</th>\n",
       "      <td>0.530</td>\n",
       "      <td>0.420</td>\n",
       "      <td>0.135</td>\n",
       "      <td>0.6770</td>\n",
       "      <td>0.2565</td>\n",
       "      <td>0.1415</td>\n",
       "      <td>0.210</td>\n",
       "      <td>9</td>\n",
       "      <td>0</td>\n",
       "      <td>0</td>\n",
       "    </tr>\n",
       "    <tr>\n",
       "      <th>3</th>\n",
       "      <td>0.440</td>\n",
       "      <td>0.365</td>\n",
       "      <td>0.125</td>\n",
       "      <td>0.5160</td>\n",
       "      <td>0.2155</td>\n",
       "      <td>0.1140</td>\n",
       "      <td>0.155</td>\n",
       "      <td>10</td>\n",
       "      <td>0</td>\n",
       "      <td>1</td>\n",
       "    </tr>\n",
       "    <tr>\n",
       "      <th>4</th>\n",
       "      <td>0.330</td>\n",
       "      <td>0.255</td>\n",
       "      <td>0.080</td>\n",
       "      <td>0.2050</td>\n",
       "      <td>0.0895</td>\n",
       "      <td>0.0395</td>\n",
       "      <td>0.055</td>\n",
       "      <td>7</td>\n",
       "      <td>0</td>\n",
       "      <td>0</td>\n",
       "    </tr>\n",
       "  </tbody>\n",
       "</table>\n",
       "</div>"
      ],
      "text/plain": [
       "   Length  Diameter  Height  Whole Weight  Shucked Weight  Viscera Weight  \\\n",
       "0   0.455     0.365   0.095        0.5140          0.2245          0.1010   \n",
       "1   0.350     0.265   0.090        0.2255          0.0995          0.0485   \n",
       "2   0.530     0.420   0.135        0.6770          0.2565          0.1415   \n",
       "3   0.440     0.365   0.125        0.5160          0.2155          0.1140   \n",
       "4   0.330     0.255   0.080        0.2050          0.0895          0.0395   \n",
       "\n",
       "   Shell Weight  Rings  BinaryRings  IsMale  \n",
       "0         0.150     15            1       1  \n",
       "1         0.070      7            0       1  \n",
       "2         0.210      9            0       0  \n",
       "3         0.155     10            0       1  \n",
       "4         0.055      7            0       0  "
      ]
     },
     "execution_count": 3,
     "metadata": {},
     "output_type": "execute_result"
    }
   ],
   "source": [
    "# First, load the data\n",
    "df = pd.read_csv(URL)\n",
    "\n",
    "# And set a binary version of Rings\n",
    "df['BinaryRings'] = (df.Rings >= 11).astype(int)\n",
    "\n",
    "# Also, need a binary verison of Sex\n",
    "df['IsMale'] = (df.Sex == 'M').astype(int)\n",
    "\n",
    "# And drop the original sex column\n",
    "df.drop(columns='Sex', inplace=True)\n",
    "df.head()"
   ]
  },
  {
   "cell_type": "code",
   "execution_count": 4,
   "metadata": {},
   "outputs": [],
   "source": [
    "# Perform a train/test split\n",
    "train_df, test_df = train_test_split(df, random_state=100)"
   ]
  },
  {
   "cell_type": "code",
   "execution_count": 5,
   "metadata": {},
   "outputs": [
    {
     "name": "stdout",
     "output_type": "stream",
     "text": [
      "SVC Accuracy: 74.26%\n"
     ]
    }
   ],
   "source": [
    "# Using default hyperparameters and kernel, find accuracy rate\n",
    "clf = SVC()\n",
    "clf.fit(train_df.drop(columns=['Rings', 'BinaryRings']), train_df.BinaryRings)\n",
    "clf_accuracy = clf.score(test_df.drop(columns=['Rings', 'BinaryRings']), test_df.BinaryRings)\n",
    "print('SVC Accuracy: {}%'.format(round(clf_accuracy * 100, 2)))"
   ]
  },
  {
   "cell_type": "code",
   "execution_count": 6,
   "metadata": {},
   "outputs": [
    {
     "data": {
      "text/plain": [
       "SVC(C=1.0, cache_size=200, class_weight=None, coef0=0.0,\n",
       "  decision_function_shape='ovr', degree=3, gamma='auto', kernel='linear',\n",
       "  max_iter=-1, probability=False, random_state=None, shrinking=True,\n",
       "  tol=0.001, verbose=False)"
      ]
     },
     "execution_count": 6,
     "metadata": {},
     "output_type": "execute_result"
    }
   ],
   "source": [
    "# Now, try a gridsearch CV to test different kernels/ hyperparameters\n",
    "# First, define the parameters to search over\n",
    "gs_params = [\n",
    "    {'kernel': ['linear'],\n",
    "     'shrinking': [True, False],\n",
    "     'class_weight': [None, 'balanced']},\n",
    "    \n",
    "    {'kernel': ['poly'],\n",
    "     'degree': list(np.arange(1, 5)),\n",
    "     'shrinking': [True, False],\n",
    "     'class_weight': [None, 'balanced']},\n",
    "    \n",
    "    {'kernel': ['rbf'],\n",
    "     'shrinking': [True, False],\n",
    "     'class_weight': [None, 'balanced']},\n",
    "    \n",
    "    {'kernel': ['sigmoid'],\n",
    "     'shrinking': [True, False],\n",
    "     'class_weight': [None, 'balanced']}\n",
    "]\n",
    "\n",
    "# Then, run the grid search\n",
    "gscv = GridSearchCV(clf, param_grid=gs_params, scoring='accuracy', cv=10)\n",
    "gscv.fit(train_df.drop(columns=['Rings', 'BinaryRings']), train_df.BinaryRings)\n",
    "gscv.best_estimator_"
   ]
  },
  {
   "cell_type": "markdown",
   "metadata": {},
   "source": [
    "We find that the best performing model is with a linear kernel, with the shrinking heuristic, and no special weighting of the classes."
   ]
  },
  {
   "cell_type": "code",
   "execution_count": 7,
   "metadata": {},
   "outputs": [
    {
     "name": "stdout",
     "output_type": "stream",
     "text": [
      "Recall: 51.52%\n",
      "Precision: 74.4%\n",
      "F-measure: 60.88%\n"
     ]
    }
   ],
   "source": [
    "# Want recall, precision, and F-measure for the best model\n",
    "predictions = gscv.predict(test_df.drop(columns=['Rings', 'BinaryRings']))\n",
    "print('Recall: {}%'.format(round(recall_score(test_df.BinaryRings, predictions) * 100, 2)))\n",
    "print('Precision: {}%'.format(round(precision_score(test_df.BinaryRings, predictions) * 100, 2)))\n",
    "print('F-measure: {}%'.format(round(f1_score(test_df.BinaryRings, predictions) * 100, 2)))"
   ]
  },
  {
   "cell_type": "code",
   "execution_count": 8,
   "metadata": {},
   "outputs": [
    {
     "name": "stdout",
     "output_type": "stream",
     "text": [
      "Predicted Variance: 3.2\n",
      "Actual Variance: 10.74\n",
      "MSE: 6.17\n",
      "Explained Variance: 45.82%\n"
     ]
    }
   ],
   "source": [
    "# Now, make regression predicitons, and give variance of predictions, and the MSE\n",
    "reg = SVR()\n",
    "reg.fit(train_df.drop(columns=['Rings', 'BinaryRings']), train_df.Rings)\n",
    "predicted = reg.predict(test_df.drop(columns=['Rings', 'BinaryRings']))\n",
    "print('Predicted Variance: {}'.format(round(np.var(predicted), 2)))\n",
    "print('Actual Variance: {}'.format(round(np.var(test_df.Rings), 2)))\n",
    "print('MSE: {}'.format(round(mean_squared_error(test_df.Rings, predicted), 2)))\n",
    "print('Explained Variance: {}%'.format(round(explained_variance_score(test_df.Rings, predicted) * 100, 2)))"
   ]
  },
  {
   "cell_type": "markdown",
   "metadata": {},
   "source": [
    "So, the variance on our predictions is 3.2, while the actual variance in our target \"Rings\" was 10.74.  This resulted in a MSE of 6.17, with 45.82% of the actual variance explained by our model."
   ]
  }
 ],
 "metadata": {
  "kernelspec": {
   "display_name": "Python 3",
   "language": "python",
   "name": "python3"
  },
  "language_info": {
   "codemirror_mode": {
    "name": "ipython",
    "version": 3
   },
   "file_extension": ".py",
   "mimetype": "text/x-python",
   "name": "python",
   "nbconvert_exporter": "python",
   "pygments_lexer": "ipython3",
   "version": "3.6.6"
  }
 },
 "nbformat": 4,
 "nbformat_minor": 2
}
