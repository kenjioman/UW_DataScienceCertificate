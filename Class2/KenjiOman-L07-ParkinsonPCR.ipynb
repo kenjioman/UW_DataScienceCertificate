{
 "cells": [
  {
   "cell_type": "markdown",
   "metadata": {},
   "source": [
    "# Lesson 7 - Parkinson PCR\n",
    "\n",
    "## Author - Kenji Oman"
   ]
  },
  {
   "cell_type": "markdown",
   "metadata": {},
   "source": [
    "### Description:\n",
    "\n",
    "Perform Principal Component Regression on a <a href=\"https://archive.ics.uci.edu/ml/datasets/parkinsons+telemonitoring\">dataset that tracked patients with Parkinson's Disease</a>.\n",
    "\n",
    "Citation: A Tsanas, MA Little, PE McSharry, LO Ramig (2009)\n",
    "'Accurate telemonitoring of Parkinson's disease progression by non-invasive speech tests',\n",
    "IEEE Transactions on Biomedical Engineering.\n",
    "\n",
    "About the data:\n",
    "This dataset is composed of a range of biomedical voice measurements from 42 \n",
    "people with early-stage Parkinson's disease recruited to a six-month trial of \n",
    "a telemonitoring device for remote symptom progression monitoring. The \n",
    "recordings were automatically captured in the patient's homes.\n",
    "\n",
    "#### Instructions:\n",
    "\n",
    " 1. Load the dataset.\n",
    " 2. Create the X-matrix (one-hot encoding categorical factors).\n",
    " 3. Scale the X-matrix.\n",
    " 4. Create the principal components and do a simple plot of the explained variance.\n",
    " 5. PCR - Linear regression with the principal components.\n",
    "\n",
    "Report on:\n",
    "\n",
    " 1. Number of components before and after (choose a smaller number of principal components and explain how you chose them).\n",
    " 2. Interpret the adjusted R-squared."
   ]
  },
  {
   "cell_type": "code",
   "execution_count": 1,
   "metadata": {},
   "outputs": [],
   "source": [
    "filename = \"https://archive.ics.uci.edu/ml/machine-learning-databases/parkinsons/telemonitoring/parkinsons_updrs.data\""
   ]
  },
  {
   "cell_type": "code",
   "execution_count": 2,
   "metadata": {},
   "outputs": [],
   "source": [
    "import pandas as pd\n",
    "import numpy as np\n",
    "from sklearn.decomposition import PCA\n",
    "import matplotlib.pyplot as plt\n",
    "import statsmodels.formula.api as sm\n",
    "import seaborn as sns"
   ]
  },
  {
   "cell_type": "code",
   "execution_count": 3,
   "metadata": {},
   "outputs": [
    {
     "data": {
      "text/html": [
       "<div>\n",
       "<style scoped>\n",
       "    .dataframe tbody tr th:only-of-type {\n",
       "        vertical-align: middle;\n",
       "    }\n",
       "\n",
       "    .dataframe tbody tr th {\n",
       "        vertical-align: top;\n",
       "    }\n",
       "\n",
       "    .dataframe thead th {\n",
       "        text-align: right;\n",
       "    }\n",
       "</style>\n",
       "<table border=\"1\" class=\"dataframe\">\n",
       "  <thead>\n",
       "    <tr style=\"text-align: right;\">\n",
       "      <th></th>\n",
       "      <th>subject#</th>\n",
       "      <th>age</th>\n",
       "      <th>sex</th>\n",
       "      <th>test_time</th>\n",
       "      <th>motor_UPDRS</th>\n",
       "      <th>total_UPDRS</th>\n",
       "      <th>Jitter(%)</th>\n",
       "      <th>Jitter(Abs)</th>\n",
       "      <th>Jitter:RAP</th>\n",
       "      <th>Jitter:PPQ5</th>\n",
       "      <th>...</th>\n",
       "      <th>Shimmer(dB)</th>\n",
       "      <th>Shimmer:APQ3</th>\n",
       "      <th>Shimmer:APQ5</th>\n",
       "      <th>Shimmer:APQ11</th>\n",
       "      <th>Shimmer:DDA</th>\n",
       "      <th>NHR</th>\n",
       "      <th>HNR</th>\n",
       "      <th>RPDE</th>\n",
       "      <th>DFA</th>\n",
       "      <th>PPE</th>\n",
       "    </tr>\n",
       "  </thead>\n",
       "  <tbody>\n",
       "    <tr>\n",
       "      <th>0</th>\n",
       "      <td>1</td>\n",
       "      <td>72</td>\n",
       "      <td>0</td>\n",
       "      <td>5.6431</td>\n",
       "      <td>28.199</td>\n",
       "      <td>34.398</td>\n",
       "      <td>0.00662</td>\n",
       "      <td>0.000034</td>\n",
       "      <td>0.00401</td>\n",
       "      <td>0.00317</td>\n",
       "      <td>...</td>\n",
       "      <td>0.230</td>\n",
       "      <td>0.01438</td>\n",
       "      <td>0.01309</td>\n",
       "      <td>0.01662</td>\n",
       "      <td>0.04314</td>\n",
       "      <td>0.014290</td>\n",
       "      <td>21.640</td>\n",
       "      <td>0.41888</td>\n",
       "      <td>0.54842</td>\n",
       "      <td>0.16006</td>\n",
       "    </tr>\n",
       "    <tr>\n",
       "      <th>1</th>\n",
       "      <td>1</td>\n",
       "      <td>72</td>\n",
       "      <td>0</td>\n",
       "      <td>12.6660</td>\n",
       "      <td>28.447</td>\n",
       "      <td>34.894</td>\n",
       "      <td>0.00300</td>\n",
       "      <td>0.000017</td>\n",
       "      <td>0.00132</td>\n",
       "      <td>0.00150</td>\n",
       "      <td>...</td>\n",
       "      <td>0.179</td>\n",
       "      <td>0.00994</td>\n",
       "      <td>0.01072</td>\n",
       "      <td>0.01689</td>\n",
       "      <td>0.02982</td>\n",
       "      <td>0.011112</td>\n",
       "      <td>27.183</td>\n",
       "      <td>0.43493</td>\n",
       "      <td>0.56477</td>\n",
       "      <td>0.10810</td>\n",
       "    </tr>\n",
       "    <tr>\n",
       "      <th>2</th>\n",
       "      <td>1</td>\n",
       "      <td>72</td>\n",
       "      <td>0</td>\n",
       "      <td>19.6810</td>\n",
       "      <td>28.695</td>\n",
       "      <td>35.389</td>\n",
       "      <td>0.00481</td>\n",
       "      <td>0.000025</td>\n",
       "      <td>0.00205</td>\n",
       "      <td>0.00208</td>\n",
       "      <td>...</td>\n",
       "      <td>0.181</td>\n",
       "      <td>0.00734</td>\n",
       "      <td>0.00844</td>\n",
       "      <td>0.01458</td>\n",
       "      <td>0.02202</td>\n",
       "      <td>0.020220</td>\n",
       "      <td>23.047</td>\n",
       "      <td>0.46222</td>\n",
       "      <td>0.54405</td>\n",
       "      <td>0.21014</td>\n",
       "    </tr>\n",
       "    <tr>\n",
       "      <th>3</th>\n",
       "      <td>1</td>\n",
       "      <td>72</td>\n",
       "      <td>0</td>\n",
       "      <td>25.6470</td>\n",
       "      <td>28.905</td>\n",
       "      <td>35.810</td>\n",
       "      <td>0.00528</td>\n",
       "      <td>0.000027</td>\n",
       "      <td>0.00191</td>\n",
       "      <td>0.00264</td>\n",
       "      <td>...</td>\n",
       "      <td>0.327</td>\n",
       "      <td>0.01106</td>\n",
       "      <td>0.01265</td>\n",
       "      <td>0.01963</td>\n",
       "      <td>0.03317</td>\n",
       "      <td>0.027837</td>\n",
       "      <td>24.445</td>\n",
       "      <td>0.48730</td>\n",
       "      <td>0.57794</td>\n",
       "      <td>0.33277</td>\n",
       "    </tr>\n",
       "    <tr>\n",
       "      <th>4</th>\n",
       "      <td>1</td>\n",
       "      <td>72</td>\n",
       "      <td>0</td>\n",
       "      <td>33.6420</td>\n",
       "      <td>29.187</td>\n",
       "      <td>36.375</td>\n",
       "      <td>0.00335</td>\n",
       "      <td>0.000020</td>\n",
       "      <td>0.00093</td>\n",
       "      <td>0.00130</td>\n",
       "      <td>...</td>\n",
       "      <td>0.176</td>\n",
       "      <td>0.00679</td>\n",
       "      <td>0.00929</td>\n",
       "      <td>0.01819</td>\n",
       "      <td>0.02036</td>\n",
       "      <td>0.011625</td>\n",
       "      <td>26.126</td>\n",
       "      <td>0.47188</td>\n",
       "      <td>0.56122</td>\n",
       "      <td>0.19361</td>\n",
       "    </tr>\n",
       "  </tbody>\n",
       "</table>\n",
       "<p>5 rows × 22 columns</p>\n",
       "</div>"
      ],
      "text/plain": [
       "   subject#  age  sex  test_time  motor_UPDRS  total_UPDRS  Jitter(%)  \\\n",
       "0         1   72    0     5.6431       28.199       34.398    0.00662   \n",
       "1         1   72    0    12.6660       28.447       34.894    0.00300   \n",
       "2         1   72    0    19.6810       28.695       35.389    0.00481   \n",
       "3         1   72    0    25.6470       28.905       35.810    0.00528   \n",
       "4         1   72    0    33.6420       29.187       36.375    0.00335   \n",
       "\n",
       "   Jitter(Abs)  Jitter:RAP  Jitter:PPQ5   ...     Shimmer(dB)  Shimmer:APQ3  \\\n",
       "0     0.000034     0.00401      0.00317   ...           0.230       0.01438   \n",
       "1     0.000017     0.00132      0.00150   ...           0.179       0.00994   \n",
       "2     0.000025     0.00205      0.00208   ...           0.181       0.00734   \n",
       "3     0.000027     0.00191      0.00264   ...           0.327       0.01106   \n",
       "4     0.000020     0.00093      0.00130   ...           0.176       0.00679   \n",
       "\n",
       "   Shimmer:APQ5  Shimmer:APQ11  Shimmer:DDA       NHR     HNR     RPDE  \\\n",
       "0       0.01309        0.01662      0.04314  0.014290  21.640  0.41888   \n",
       "1       0.01072        0.01689      0.02982  0.011112  27.183  0.43493   \n",
       "2       0.00844        0.01458      0.02202  0.020220  23.047  0.46222   \n",
       "3       0.01265        0.01963      0.03317  0.027837  24.445  0.48730   \n",
       "4       0.00929        0.01819      0.02036  0.011625  26.126  0.47188   \n",
       "\n",
       "       DFA      PPE  \n",
       "0  0.54842  0.16006  \n",
       "1  0.56477  0.10810  \n",
       "2  0.54405  0.21014  \n",
       "3  0.57794  0.33277  \n",
       "4  0.56122  0.19361  \n",
       "\n",
       "[5 rows x 22 columns]"
      ]
     },
     "execution_count": 3,
     "metadata": {},
     "output_type": "execute_result"
    }
   ],
   "source": [
    "parkinsons_df = pd.read_csv(filename)\n",
    "parkinsons_df.head()"
   ]
  },
  {
   "cell_type": "code",
   "execution_count": 4,
   "metadata": {},
   "outputs": [
    {
     "data": {
      "text/plain": [
       "Index(['subject#', 'age', 'sex', 'test_time', 'motor_UPDRS', 'total_UPDRS',\n",
       "       'Jitter(%)', 'Jitter(Abs)', 'Jitter:RAP', 'Jitter:PPQ5', 'Jitter:DDP',\n",
       "       'Shimmer', 'Shimmer(dB)', 'Shimmer:APQ3', 'Shimmer:APQ5',\n",
       "       'Shimmer:APQ11', 'Shimmer:DDA', 'NHR', 'HNR', 'RPDE', 'DFA', 'PPE'],\n",
       "      dtype='object')"
      ]
     },
     "execution_count": 4,
     "metadata": {},
     "output_type": "execute_result"
    }
   ],
   "source": [
    "parkinsons_df.columns"
   ]
  },
  {
   "cell_type": "code",
   "execution_count": 5,
   "metadata": {},
   "outputs": [
    {
     "name": "stdout",
     "output_type": "stream",
     "text": [
      "DataFrame one-hot-expanded shape: (5875, 17)\n"
     ]
    }
   ],
   "source": [
    "# Define the target and features:\n",
    "target_label = 'total_UPDRS'\n",
    "non_features = ['subject#', 'age', 'sex', 'test_time', 'motor_UPDRS']\n",
    "feature_labels = [x for x in parkinsons_df.columns if x not in [target_label] + non_features]\n",
    "\n",
    "# Filter out non-features and non-targets\n",
    "parkinsons_df = parkinsons_df.drop(non_features, axis=1, errors='ignore')\n",
    "\n",
    "# One-hot encode inputs\n",
    "parkinsons_expanded = pd.get_dummies(parkinsons_df, drop_first=True)\n",
    "print('DataFrame one-hot-expanded shape: {}'.format(parkinsons_expanded.shape))\n",
    "\n",
    "# Get target and original x-matrix\n",
    "y = parkinsons_df[target_label]\n",
    "X = parkinsons_df.loc[:, feature_labels].values"
   ]
  },
  {
   "cell_type": "code",
   "execution_count": 6,
   "metadata": {},
   "outputs": [],
   "source": [
    "# Scale function\n",
    "def scale(col):\n",
    "    mean_col = np.mean(col)\n",
    "    sd_col = np.std(col)\n",
    "    std = (col - mean_col) / sd_col\n",
    "    return std"
   ]
  },
  {
   "cell_type": "code",
   "execution_count": 7,
   "metadata": {},
   "outputs": [],
   "source": [
    "# Scale all columns first\n",
    "\n",
    "# Create x-scaled (look into the function np.apply_along_axis to apply 'scale' function\n",
    "#    to each column)\n",
    "x_scaled = np.apply_along_axis(scale, 1, X)\n",
    "\n",
    "# Create a scaled y-target\n",
    "y_scaled = np.apply_along_axis(scale, 0, y)"
   ]
  },
  {
   "cell_type": "code",
   "execution_count": 8,
   "metadata": {},
   "outputs": [],
   "source": [
    "# PCR!!\n",
    "pca = PCA()\n",
    "pca_result = pca.fit_transform(x_scaled)\n",
    "\n",
    "column_names = ['pc' + str(ix+1) for ix in range(pca.components_.shape[0])]\n",
    "pca_df = pd.DataFrame(data = pca_result, columns=column_names)\n",
    "pca_df[target_label] = y_scaled"
   ]
  },
  {
   "cell_type": "markdown",
   "metadata": {},
   "source": [
    "## Variance Explained"
   ]
  },
  {
   "cell_type": "code",
   "execution_count": 9,
   "metadata": {},
   "outputs": [
    {
     "data": {
      "image/png": "[encoded data removed]",
      "text/plain": [
       "<Figure size 432x288 with 1 Axes>"
      ]
     },
     "metadata": {},
     "output_type": "display_data"
    },
    {
     "data": {
      "image/png": "[encoded data removed]",
      "text/plain": [
       "<Figure size 432x288 with 1 Axes>"
      ]
     },
     "metadata": {},
     "output_type": "display_data"
    }
   ],
   "source": [
    "# Plot the explained variance for all 111 principal components\n",
    "# Note: If the first value is too large, it may dwarf how the rest look.\n",
    "#   You may consider plotting starting with the 2nd value (python index at 1)\n",
    "plt.plot(range(1, len(pca.explained_variance_)+1), pca.explained_variance_)\n",
    "plt.title('Explained variance by Principal Component Num')\n",
    "plt.xlabel('Principal Component')\n",
    "plt.ylabel('Explained Variance')\n",
    "plt.show()\n",
    "plt.plot(range(2, len(pca.explained_variance_)+1), pca.explained_variance_[1:])\n",
    "plt.title('Explained variance by Principal Component Num, minus first')\n",
    "plt.xlabel('Principal Component')\n",
    "plt.ylabel('Explained Variance')\n",
    "plt.show()"
   ]
  },
  {
   "cell_type": "code",
   "execution_count": 10,
   "metadata": {},
   "outputs": [
    {
     "name": "stdout",
     "output_type": "stream",
     "text": [
      "Total variance captured: 0.037247410093115337\n",
      "Now, contributions from each component:\n",
      "1: 0.9338492570809234\n",
      "2: 0.9661475583469776\n",
      "3: 0.984138644562929\n",
      "4: 0.9914531630343191\n",
      "5: 0.9967602479889521\n",
      "6: 0.9989397877899777\n",
      "7: 0.9993916221249853\n",
      "8: 0.9997981218933313\n",
      "9: 0.9999245072448448\n",
      "10: 0.9999729861916847\n",
      "11: 0.9999938205356322\n",
      "12: 0.9999984261242743\n",
      "13: 0.9999999995834521\n",
      "14: 0.9999999999911222\n",
      "15: 1.0000000000000007\n",
      "16: 1.0\n"
     ]
    }
   ],
   "source": [
    "# Let's look at how much of the explainable variance is explained by\n",
    "# the first N PCs\n",
    "print(\"Total variance captured:\", pca.explained_variance_.sum())\n",
    "print(\"Now, contributions from each component:\")\n",
    "for i in range(pca.explained_variance_.shape[0]):\n",
    "    print('{0}: {1}'.format(i+1, pca.explained_variance_[:(i+1)].sum()/pca.explained_variance_.sum()))"
   ]
  },
  {
   "cell_type": "markdown",
   "metadata": {},
   "source": [
    "From the above, it looks like the **first 4 principal components explain over 99% of the explainable variance across our features, so let's use 4 PCs** for our regression.  Now, let's take a look at which columns make up these first 4 PCs.\n",
    "\n",
    "## Feature contributions to principal components"
   ]
  },
  {
   "cell_type": "code",
   "execution_count": 11,
   "metadata": {},
   "outputs": [
    {
     "data": {
      "text/plain": [
       "array(['Jitter(%)', 'Jitter(Abs)', 'Jitter:RAP', 'Jitter:PPQ5',\n",
       "       'Jitter:DDP', 'Shimmer', 'Shimmer(dB)', 'Shimmer:APQ3',\n",
       "       'Shimmer:APQ5', 'Shimmer:APQ11', 'Shimmer:DDA', 'NHR', 'HNR',\n",
       "       'RPDE', 'DFA', 'PPE'], dtype='<U13')"
      ]
     },
     "execution_count": 11,
     "metadata": {},
     "output_type": "execute_result"
    }
   ],
   "source": [
    "# Let's look at what columns make up these first 4 components\n",
    "# First, grab the column names\n",
    "temp = np.reshape(np.array(feature_labels*4), (4,16))\n",
    "temp[0, :]"
   ]
  },
  {
   "cell_type": "code",
   "execution_count": 12,
   "metadata": {},
   "outputs": [
    {
     "data": {
      "text/plain": [
       "array([[0.27581064, 0.09182259, 0.08146416, 0.06060034, 0.05580498,\n",
       "        0.05388448, 0.05291339, 0.05133978, 0.05119951, 0.04612157,\n",
       "        0.04256456, 0.03861231, 0.03531149, 0.03386958, 0.02227996,\n",
       "        0.00640068],\n",
       "       [0.18378242, 0.14132817, 0.12831453, 0.10808082, 0.07982223,\n",
       "        0.03924077, 0.03569541, 0.03550051, 0.03309369, 0.03306896,\n",
       "        0.03239068, 0.03165709, 0.03130362, 0.03056636, 0.03003267,\n",
       "        0.02612208],\n",
       "       [0.18793764, 0.17690865, 0.15661754, 0.13517321, 0.11106062,\n",
       "        0.08072751, 0.03910596, 0.02660421, 0.02258378, 0.02025675,\n",
       "        0.0180517 , 0.0117686 , 0.00745725, 0.00423078, 0.00109404,\n",
       "        0.00042174],\n",
       "       [0.33372983, 0.29020634, 0.18373776, 0.03975645, 0.03660976,\n",
       "        0.02402113, 0.01707494, 0.01691213, 0.01356824, 0.01156551,\n",
       "        0.01050499, 0.00845839, 0.00521404, 0.00444108, 0.0026085 ,\n",
       "        0.00159093]])"
      ]
     },
     "execution_count": 12,
     "metadata": {},
     "output_type": "execute_result"
    }
   ],
   "source": [
    "# Now, show the amount of contribution made to the first 4 PCs, by\n",
    "# the different columns, per PC\n",
    "np.sort(np.abs(pca.components_[:4,:]))[:, ::-1]/ np.abs(pca.components_[:4, :]).sum(axis=1).reshape(-1,1)"
   ]
  },
  {
   "cell_type": "code",
   "execution_count": 13,
   "metadata": {},
   "outputs": [
    {
     "data": {
      "text/plain": [
       "array([['Shimmer(dB)', 'HNR', 'RPDE', 'Jitter(Abs)', 'Jitter:RAP',\n",
       "        'Jitter:PPQ5', 'DFA', 'Jitter(%)', 'NHR', 'Jitter:DDP',\n",
       "        'Shimmer:APQ3', 'PPE', 'Shimmer:APQ5', 'Shimmer:APQ11',\n",
       "        'Shimmer', 'Shimmer:DDA'],\n",
       "       ['HNR', 'NHR', 'RPDE', 'DFA', 'PPE', 'Jitter:DDP', 'Jitter(%)',\n",
       "        'Jitter:PPQ5', 'Jitter:RAP', 'Shimmer', 'Shimmer:APQ5',\n",
       "        'Shimmer:DDA', 'Shimmer(dB)', 'Shimmer:APQ3', 'Jitter(Abs)',\n",
       "        'Shimmer:APQ11'],\n",
       "       ['HNR', 'Shimmer(dB)', 'RPDE', 'DFA', 'NHR', 'PPE', 'Shimmer:DDA',\n",
       "        'Shimmer', 'Shimmer:APQ11', 'Shimmer:APQ5', 'Shimmer:APQ3',\n",
       "        'Jitter:DDP', 'Jitter(Abs)', 'Jitter(%)', 'Jitter:RAP',\n",
       "        'Jitter:PPQ5'],\n",
       "       ['RPDE', 'PPE', 'DFA', 'HNR', 'NHR', 'Shimmer:DDA',\n",
       "        'Shimmer:APQ3', 'Shimmer:APQ5', 'Jitter(Abs)', 'Jitter:DDP',\n",
       "        'Shimmer', 'Shimmer(dB)', 'Jitter:RAP', 'Jitter(%)',\n",
       "        'Jitter:PPQ5', 'Shimmer:APQ11']], dtype='<U13')"
      ]
     },
     "execution_count": 13,
     "metadata": {},
     "output_type": "execute_result"
    }
   ],
   "source": [
    "# Now, Show what these column names are that contributed these amounts\n",
    "np.take(temp, np.argsort(np.abs(pca.components_[:4,:]))[:, ::-1])"
   ]
  },
  {
   "cell_type": "markdown",
   "metadata": {},
   "source": [
    "From the above, we see that the first 4 PCs have fairly signifcant contributions from a large number of columns (granted, this isn't exactly right since each column can contribute positively and negatively towards the final PC value, and we really need all the columns to get the PC to explain the full variance that it does, but we do get an idea of the relative weights each column plays in generating each PC).  From this we see:\n",
    "\n",
    "* Shimmer(dB) alone carries ~27.6% of the weight going into PC1, with the remaining columns contributing ~2-9% of the weights.\n",
    "* PC2 has contributions spread out among more columns, with HNR, NHR, RPDE, and DFA all contributing over 10% of the weights.\n",
    "* PC3 also has a larger number of columns contrubing over 10% (HNR, Shimmer(dB), RPDE, DFA, NHR)\n",
    "* PC4 has most of it's weights contributed by 3 columns: RPDE, PPE, and DFA.\n",
    "\n",
    "So, **Shimmer(dB), HNR, NHR, RPDE, DFA, and PPE seem to be roughly the 6 most important columns from the original 16**.\n",
    "\n",
    "Now, on to see how well our PCA regression works.\n",
    "\n",
    "## PCA Regression with 4 components"
   ]
  },
  {
   "cell_type": "code",
   "execution_count": 14,
   "metadata": {},
   "outputs": [
    {
     "name": "stdout",
     "output_type": "stream",
     "text": [
      "                            OLS Regression Results                            \n",
      "==============================================================================\n",
      "Dep. Variable:            total_UPDRS   R-squared:                       0.015\n",
      "Model:                            OLS   Adj. R-squared:                  0.014\n",
      "Method:                 Least Squares   F-statistic:                     22.15\n",
      "Date:                Wed, 23 May 2018   Prob (F-statistic):           3.60e-18\n",
      "Time:                        08:37:07   Log-Likelihood:                -8292.3\n",
      "No. Observations:                5875   AIC:                         1.659e+04\n",
      "Df Residuals:                    5870   BIC:                         1.663e+04\n",
      "Df Model:                           4                                         \n",
      "Covariance Type:            nonrobust                                         \n",
      "==============================================================================\n",
      "                 coef    std err          t      P>|t|      [0.025      0.975]\n",
      "------------------------------------------------------------------------------\n",
      "Intercept  -6.679e-16      0.013  -5.16e-14      1.000      -0.025       0.025\n",
      "pc1            0.2389      0.069      3.439      0.001       0.103       0.375\n",
      "pc2           -2.8161      0.374     -7.539      0.000      -3.548      -2.084\n",
      "pc3            0.7726      0.500      1.544      0.123      -0.209       1.754\n",
      "pc4           -3.2875      0.785     -4.188      0.000      -4.826      -1.749\n",
      "==============================================================================\n",
      "Omnibus:                      158.439   Durbin-Watson:                   0.055\n",
      "Prob(Omnibus):                  0.000   Jarque-Bera (JB):              149.995\n",
      "Skew:                           0.349   Prob(JB):                     2.69e-33\n",
      "Kurtosis:                       2.646   Cond. No.                         60.6\n",
      "==============================================================================\n",
      "\n",
      "Warnings:\n",
      "[1] Standard Errors assume that the covariance matrix of the errors is correctly specified.\n"
     ]
    },
    {
     "name": "stderr",
     "output_type": "stream",
     "text": [
      "/home/koman/miniconda3/envs/dsc/lib/python3.6/site-packages/matplotlib/axes/_axes.py:6462: UserWarning: The 'normed' kwarg is deprecated, and has been replaced by the 'density' kwarg.\n",
      "  warnings.warn(\"The 'normed' kwarg is deprecated, and has been \"\n"
     ]
    },
    {
     "data": {
      "image/png": "[encoded data removed]",
      "text/plain": [
       "<Figure size 432x288 with 1 Axes>"
      ]
     },
     "metadata": {},
     "output_type": "display_data"
    }
   ],
   "source": [
    "# Perform linear regression with the first N columns\n",
    "n = 4\n",
    "formula_start = target_label + ' ~ '\n",
    "formula_terms = ['pc' + str(x+1) for x in range(n)]\n",
    "formula_end = ' + '.join(formula_terms)\n",
    "formula_final = formula_start + formula_end\n",
    "\n",
    "pcr_model = sm.ols(formula = formula_final, data=pca_df)\n",
    "\n",
    "results = pcr_model.fit()\n",
    "\n",
    "# Get most of the linear regression statistics we are interested in:\n",
    "print(results.summary())\n",
    "\n",
    "# Plot a histogram of the residuals\n",
    "sns.distplot(results.resid, hist=True)\n",
    "plt.xlabel('Residual')\n",
    "plt.ylabel('Frequency')\n",
    "plt.title('Residual Histogram')\n",
    "plt.show()"
   ]
  },
  {
   "cell_type": "markdown",
   "metadata": {},
   "source": [
    "## Summary\n",
    "From the above, we see that PC3 is not significantly associated with the target variable of 'total_UPDRS', but the remaining 3 components are significantly associated.  However, only 1.4% of the variance in total_UPDRS is explained by these 4 principal components (the adjusted $R^2$).  Although we captured most of the information that can be captured by combining the original columns (with 4 PCs, we captured over 99% of the capturable variance), as PC3 wasn't even associted with our target variable, there may be some lower level components that are more significantly associated with total_UPDRS.  We would have to perform stepwise regression to see if we can discover some features that are more strongly associated (and, if we were to investigate further, perhaps we would see one of the original columns is much more strongly associated with the total_UPDRS, and PCA just mixes/ weakens this signal with the variability present in other columns).\n",
    "\n",
    "So, in conclusion, although PCA is a quick/ easy way of decreasing the number of features, it isn't a cure-all to the problem of feature selection."
   ]
  }
 ],
 "metadata": {
  "kernelspec": {
   "display_name": "Python 3",
   "language": "python",
   "name": "python3"
  },
  "language_info": {
   "codemirror_mode": {
    "name": "ipython",
    "version": 3
   },
   "file_extension": ".py",
   "mimetype": "text/x-python",
   "name": "python",
   "nbconvert_exporter": "python",
   "pygments_lexer": "ipython3",
   "version": "3.6.6"
  }
 },
 "nbformat": 4,
 "nbformat_minor": 2
}
